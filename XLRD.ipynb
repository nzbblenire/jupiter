{
 "cells": [
  {
   "cell_type": "code",
   "execution_count": 8,
   "metadata": {},
   "outputs": [
    {
     "name": "stdout",
     "output_type": "stream",
     "text": [
      "data[3][2]:\n",
      "Hour_End\n"
     ]
    }
   ],
   "source": [
    "import xlrd\n",
    "datafile = r\"G:\\Python数据分析入门\\2013_ERCOT_Hourly_Load_Data\\2013_ERCOT_Hourly_Load_Data.xls\"\n",
    "#add r \n",
    "def parse_file(datafile):\n",
    "    workbook = xlrd.open_workbook(datafile)\n",
    "    sheet = workbook.sheet_by_index(0)\n",
    "    \n",
    "    data = [[sheet.cell_value(row,col) for col in range(sheet.ncols)]\n",
    "                                       for row in range(sheet.nrows)]\n",
    "    print (\"data[3][2]:\")\n",
    "    print (data[0][0])\n",
    "    \n",
    "    \"\"\"for row in range(sheet.nrows):\n",
    "        for col in range(sheet.ncols):\n",
    "            if row == 50:\n",
    "                print (sheet.cell_value(row,col))\"\"\"\n",
    "    \n",
    "parse_file(datafile)\n"
   ]
  },
  {
   "cell_type": "markdown",
   "metadata": {},
   "source": [
    "have a try on git a"
   ]
  }
 ],
 "metadata": {
  "kernelspec": {
   "display_name": "Python 3",
   "language": "python",
   "name": "python3"
  },
  "language_info": {
   "codemirror_mode": {
    "name": "ipython",
    "version": 3
   },
   "file_extension": ".py",
   "mimetype": "text/x-python",
   "name": "python",
   "nbconvert_exporter": "python",
   "pygments_lexer": "ipython3",
   "version": "3.6.2"
  }
 },
 "nbformat": 4,
 "nbformat_minor": 2
}
