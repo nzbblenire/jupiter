{
 "cells": [
  {
   "cell_type": "code",
   "execution_count": 14,
   "metadata": {},
   "outputs": [
    {
     "ename": "SyntaxError",
     "evalue": "invalid syntax (<ipython-input-14-b9141c913fcc>, line 3)",
     "output_type": "error",
     "traceback": [
      "\u001b[1;36m  File \u001b[1;32m\"<ipython-input-14-b9141c913fcc>\"\u001b[1;36m, line \u001b[1;32m3\u001b[0m\n\u001b[1;33m    import lambda\u001b[0m\n\u001b[1;37m                ^\u001b[0m\n\u001b[1;31mSyntaxError\u001b[0m\u001b[1;31m:\u001b[0m invalid syntax\n"
     ]
    }
   ],
   "source": [
    "from bs4 import BeautifulSoup \n",
    "import re\n",
    "import lambda\n",
    "from urllib.request import urlopen\n",
    "html = urlopen(\"http://www.pythonscraping.com/pages/page3.html\")\n",
    "bsObj = BeautifulSoup(html)"
   ]
  },
  {
   "cell_type": "markdown",
   "metadata": {},
   "source": [
    "正则表达式"
   ]
  },
  {
   "cell_type": "code",
   "execution_count": 7,
   "metadata": {},
   "outputs": [
    {
     "name": "stdout",
     "output_type": "stream",
     "text": [
      "<img src=\"../img/gifts/img1.jpg\"/>\n",
      "../img/gifts/img1.jpg\n",
      "<img src=\"../img/gifts/img2.jpg\"/>\n",
      "../img/gifts/img2.jpg\n",
      "<img src=\"../img/gifts/img3.jpg\"/>\n",
      "../img/gifts/img3.jpg\n",
      "<img src=\"../img/gifts/img4.jpg\"/>\n",
      "../img/gifts/img4.jpg\n",
      "<img src=\"../img/gifts/img6.jpg\"/>\n",
      "../img/gifts/img6.jpg\n"
     ]
    }
   ],
   "source": [
    "images = bsObj.findAll(\"img\",{\"src\":re.compile(\"\\.\\.\\/img\\/gifts\\/img.*.jpg\")}) \n",
    "for image in images:\n",
    "    print(image)\n",
    "    print(image[\"src\"])\n",
    "#<img src=\"../img/gifts/img1.jpg\">"
   ]
  },
  {
   "cell_type": "markdown",
   "metadata": {},
   "source": [
    "父标签"
   ]
  },
  {
   "cell_type": "code",
   "execution_count": 10,
   "metadata": {},
   "outputs": [
    {
     "name": "stdout",
     "output_type": "stream",
     "text": [
      "\n",
      "$15.00\n",
      "\n"
     ]
    }
   ],
   "source": [
    "parent_text = bsObj.find(\"img\",{\"src\":{\"../img/gifts/img1.jpg\"}}).parent.previous_sibling.get_text()\n",
    "print(parent_text)"
   ]
  },
  {
   "cell_type": "markdown",
   "metadata": {},
   "source": [
    "获得属性"
   ]
  },
  {
   "cell_type": "code",
   "execution_count": 19,
   "metadata": {},
   "outputs": [
    {
     "name": "stdout",
     "output_type": "stream",
     "text": [
      "{}\n"
     ]
    }
   ],
   "source": [
    "bsObj_attrs = bsObj.attrs\n",
    "print(bsObj_attrs)\n"
   ]
  },
  {
   "cell_type": "markdown",
   "metadata": {},
   "source": [
    "Lambda"
   ]
  },
  {
   "cell_type": "code",
   "execution_count": 18,
   "metadata": {},
   "outputs": [
    {
     "ename": "SyntaxError",
     "evalue": "invalid character in identifier (<ipython-input-18-993b081f7839>, line 1)",
     "output_type": "error",
     "traceback": [
      "\u001b[1;36m  File \u001b[1;32m\"<ipython-input-18-993b081f7839>\"\u001b[1;36m, line \u001b[1;32m1\u001b[0m\n\u001b[1;33m    bsObj_2attrs = bsObj.findAll（lambda tag: len(tag.attrs) == 2)\u001b[0m\n\u001b[1;37m                                      ^\u001b[0m\n\u001b[1;31mSyntaxError\u001b[0m\u001b[1;31m:\u001b[0m invalid character in identifier\n"
     ]
    }
   ],
   "source": [
    "bsObj_2attrs = bsObj.findAll（lambda tag: len(tag.attrs) == 2) \n",
    "print bsObj_2attrs"
   ]
  },
  {
   "cell_type": "code",
   "execution_count": null,
   "metadata": {},
   "outputs": [],
   "source": []
  }
 ],
 "metadata": {
  "kernelspec": {
   "display_name": "Python 3",
   "language": "python",
   "name": "python3"
  },
  "language_info": {
   "codemirror_mode": {
    "name": "ipython",
    "version": 3
   },
   "file_extension": ".py",
   "mimetype": "text/x-python",
   "name": "python",
   "nbconvert_exporter": "python",
   "pygments_lexer": "ipython3",
   "version": "3.6.2"
  }
 },
 "nbformat": 4,
 "nbformat_minor": 2
}
